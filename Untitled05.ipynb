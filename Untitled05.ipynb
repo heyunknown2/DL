{
 "cells": [
  {
   "cell_type": "code",
   "execution_count": 1,
   "id": "d335674a",
   "metadata": {},
   "outputs": [],
   "source": [
    "import numpy as np\n",
    "import pandas as pd\n",
    "import seaborn as sns\n",
    "import matplotlib as mpl\n",
    "import matplotlib.pyplot as plt\n",
    "import matplotlib.pylab as pylab"
   ]
  },
  {
   "cell_type": "code",
   "execution_count": 8,
   "id": "1873763f",
   "metadata": {},
   "outputs": [],
   "source": [
    "import re"
   ]
  },
  {
   "cell_type": "code",
   "execution_count": 9,
   "id": "bbd5c415",
   "metadata": {},
   "outputs": [],
   "source": [
    "sentences = \"\"\"Continuous Bag of Words (CBOW) is a popular natural language processing technique used \n",
    "               to generate word embeddings. Word embeddings are important for many NLP tasks because they \n",
    "               capture semantic and syntactic relationships between words in a language. CBOW is a neural network-based\n",
    "               algorithm that predicts a target word given its surrounding context words.\"\"\""
   ]
  },
  {
   "cell_type": "code",
   "execution_count": 10,
   "id": "02399d1a",
   "metadata": {},
   "outputs": [],
   "source": [
    "senteces = re.sub('[^A-Za-z0-9]+', ' ', sentences)"
   ]
  },
  {
   "cell_type": "code",
   "execution_count": 11,
   "id": "f1df0bf8",
   "metadata": {},
   "outputs": [],
   "source": [
    "senteces = re.sub(r'(?:^| )\\w(?:$| )', ' ', sentences).strip()"
   ]
  },
  {
   "cell_type": "code",
   "execution_count": 12,
   "id": "b06b3288",
   "metadata": {},
   "outputs": [],
   "source": [
    "sentences = sentences.lower()"
   ]
  },
  {
   "cell_type": "code",
   "execution_count": 13,
   "id": "a911a3ef",
   "metadata": {},
   "outputs": [],
   "source": [
    "words = sentences.split()\n",
    "vocab = set(words)"
   ]
  },
  {
   "cell_type": "code",
   "execution_count": 14,
   "id": "751e74d6",
   "metadata": {},
   "outputs": [],
   "source": [
    "vocab_size = len(vocab)\n",
    "embed_dim = 10\n",
    "context_size = 2"
   ]
  },
  {
   "cell_type": "code",
   "execution_count": 15,
   "id": "cff95ed8",
   "metadata": {},
   "outputs": [],
   "source": [
    "word_to_ix = {word: i for i, word in enumerate(vocab)}\n",
    "ix_to_word = {i: word for i, word in enumerate(vocab)}"
   ]
  },
  {
   "cell_type": "code",
   "execution_count": 16,
   "id": "6c4906bb",
   "metadata": {},
   "outputs": [
    {
     "name": "stdout",
     "output_type": "stream",
     "text": [
      "[(['continuous', 'bag', 'words', '(cbow)'], 'of'), (['bag', 'of', '(cbow)', 'is'], 'words'), (['of', 'words', 'is', 'a'], '(cbow)'), (['words', '(cbow)', 'a', 'popular'], 'is'), (['(cbow)', 'is', 'popular', 'natural'], 'a')]\n"
     ]
    }
   ],
   "source": [
    "data = []\n",
    "for i in range(2,len(words) - 2):\n",
    "  context = [words[i-2], words[i-1], words[i+1], words[i+2]]\n",
    "  target = words[i]\n",
    "  data.append((context,target))\n",
    "print(data[:5])"
   ]
  },
  {
   "cell_type": "code",
   "execution_count": 17,
   "id": "db0aa88f",
   "metadata": {},
   "outputs": [],
   "source": [
    "embeddings = np.random.random_sample((vocab_size , embed_dim))"
   ]
  },
  {
   "cell_type": "code",
   "execution_count": 18,
   "id": "f9aa7646",
   "metadata": {},
   "outputs": [],
   "source": [
    "def linear(m,theta):\n",
    "  w = theta\n",
    "  return m.dot(w)"
   ]
  },
  {
   "cell_type": "code",
   "execution_count": 19,
   "id": "6c9af898",
   "metadata": {},
   "outputs": [],
   "source": [
    "def log_softmax(x):\n",
    "  e_x = np.exp(x-np.max(x))\n",
    "  return np.log(e_x/e_x.sum())"
   ]
  },
  {
   "cell_type": "code",
   "execution_count": 20,
   "id": "438f66fa",
   "metadata": {},
   "outputs": [],
   "source": [
    "def NLLLoss(logs,targets):\n",
    "  out = logs[range(len(targets)),targets]\n",
    "  return -out.sum()/len(out)"
   ]
  },
  {
   "cell_type": "code",
   "execution_count": 21,
   "id": "354f5d04",
   "metadata": {},
   "outputs": [],
   "source": [
    "def log_softmax_crossentropy_with_logits(logits,target):\n",
    "  out = np.zeros_like(logits)\n",
    "  out[np.arange(len(logits)) , target] = 1\n",
    "\n",
    "  softmax = np.exp(logits) / np.exp(logits).sum(axis=-1, keepdims=True)\n",
    "\n",
    "  return(- out + softmax) / logits.shape[0]"
   ]
  },
  {
   "cell_type": "code",
   "execution_count": 22,
   "id": "2a318f1a",
   "metadata": {},
   "outputs": [],
   "source": [
    "def forward(context_idxs, theta):\n",
    "  m = embeddings[context_idxs].reshape(1, -1)\n",
    "  n = linear(m, theta)\n",
    "  o = log_softmax(n)\n",
    "\n",
    "  return m, n, o"
   ]
  },
  {
   "cell_type": "code",
   "execution_count": 23,
   "id": "fab771ae",
   "metadata": {},
   "outputs": [],
   "source": [
    "def backward(preds, theta, target_idxs):\n",
    "  m, n, o = preds\n",
    "\n",
    "  dlog = log_softmax_crossentropy_with_logits(n, target_idxs)\n",
    "  dw = m.T.dot(dlog)\n",
    "\n",
    "\n",
    "  return dw"
   ]
  },
  {
   "cell_type": "code",
   "execution_count": 24,
   "id": "bc735f17",
   "metadata": {},
   "outputs": [],
   "source": [
    "def optimize(theta, grad, lr=0.03):\n",
    "  theta -= grad * lr\n",
    "  return theta"
   ]
  },
  {
   "cell_type": "code",
   "execution_count": 25,
   "id": "33a8a2a0",
   "metadata": {},
   "outputs": [],
   "source": [
    "theta = np.random.uniform(-1,1, (2 * context_size * embed_dim, vocab_size))"
   ]
  },
  {
   "cell_type": "code",
   "execution_count": 26,
   "id": "583f4d0c",
   "metadata": {},
   "outputs": [],
   "source": [
    "epoch_losses = {}\n",
    "\n",
    "for epoch in range(80):\n",
    "\n",
    "  losses = []\n",
    "\n",
    "  for context, target in data:\n",
    "    context_idxs = np.array([word_to_ix[w] for w in context])\n",
    "    preds = forward(context_idxs,theta)\n",
    "\n",
    "    target_idxs = np.array([word_to_ix[target]])\n",
    "    loss = NLLLoss(preds[-1], target_idxs)\n",
    "\n",
    "    losses.append(loss)\n",
    "\n",
    "    grad = backward(preds, theta, target_idxs)\n",
    "    theta = optimize(theta, grad, lr=0.03)\n",
    "\n",
    "  epoch_losses[epoch] = losses"
   ]
  },
  {
   "cell_type": "code",
   "execution_count": 27,
   "id": "2ff02308",
   "metadata": {},
   "outputs": [
    {
     "data": {
      "text/plain": [
       "Text(0, 0.5, 'Losses')"
      ]
     },
     "execution_count": 27,
     "metadata": {},
     "output_type": "execute_result"
    },
    {
     "data": {
      "image/png": "[encoded data removed]",
      "text/plain": [
       "<Figure size 640x480 with 1 Axes>"
      ]
     },
     "metadata": {},
     "output_type": "display_data"
    }
   ],
   "source": [
    "ix = np.arange(0,80)\n",
    "\n",
    "fig = plt.figure()\n",
    "fig.suptitle('Epoch/Losses', fontsize = 20)\n",
    "plt.plot(ix,[epoch_losses[i][0] for i in ix])\n",
    "plt.xlabel('Epochs' , fontsize = 12)\n",
    "plt.ylabel('Losses' , fontsize = 12)"
   ]
  },
  {
   "cell_type": "code",
   "execution_count": 28,
   "id": "43024b9f",
   "metadata": {},
   "outputs": [],
   "source": [
    "def predict(words):\n",
    "  context_idxs = np.array([word_to_ix[w] for w in words])\n",
    "  preds = forward(context_idxs,theta)\n",
    "  word = ix_to_word[np.argmax(preds[-1])]\n",
    "\n",
    "  return word\n"
   ]
  },
  {
   "cell_type": "code",
   "execution_count": 29,
   "id": "5f143bec",
   "metadata": {},
   "outputs": [
    {
     "data": {
      "text/plain": [
       "'of'"
      ]
     },
     "execution_count": 29,
     "metadata": {},
     "output_type": "execute_result"
    }
   ],
   "source": [
    "predict(['continuous', 'bag', 'words', '(cbow)'])"
   ]
  },
  {
   "cell_type": "code",
   "execution_count": 30,
   "id": "a250d08c",
   "metadata": {},
   "outputs": [],
   "source": [
    "def accuracy():\n",
    "  wrong = 0\n",
    "\n",
    "  for context, target in data:\n",
    "    if(predict(context) != target):\n",
    "      wrong += 1\n",
    "\n",
    "  return (1 - wrong / len(data))"
   ]
  },
  {
   "cell_type": "code",
   "execution_count": 31,
   "id": "15558512",
   "metadata": {},
   "outputs": [
    {
     "data": {
      "text/plain": [
       "1.0"
      ]
     },
     "execution_count": 31,
     "metadata": {},
     "output_type": "execute_result"
    }
   ],
   "source": [
    "accuracy()"
   ]
  },
  {
   "cell_type": "code",
   "execution_count": 36,
   "id": "64dc46d6",
   "metadata": {},
   "outputs": [
    {
     "data": {
      "text/plain": [
       "'target'"
      ]
     },
     "execution_count": 36,
     "metadata": {},
     "output_type": "execute_result"
    }
   ],
   "source": [
    "predict(['neural' , 'algorithm' , 'predicts' , 'words'])"
   ]
  },
  {
   "cell_type": "code",
   "execution_count": null,
   "id": "763c6728",
   "metadata": {},
   "outputs": [],
   "source": []
  }
 ],
 "metadata": {
  "kernelspec": {
   "display_name": "Python 3 (ipykernel)",
   "language": "python",
   "name": "python3"
  },
  "language_info": {
   "codemirror_mode": {
    "name": "ipython",
    "version": 3
   },
   "file_extension": ".py",
   "mimetype": "text/x-python",
   "name": "python",
   "nbconvert_exporter": "python",
   "pygments_lexer": "ipython3",
   "version": "3.11.4"
  }
 },
 "nbformat": 4,
 "nbformat_minor": 5
}
